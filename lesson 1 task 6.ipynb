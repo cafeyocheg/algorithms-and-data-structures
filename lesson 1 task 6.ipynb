{
 "cells": [
  {
   "cell_type": "code",
   "execution_count": 6,
   "metadata": {},
   "outputs": [
    {
     "name": "stdout",
     "output_type": "stream",
     "text": [
      "Введите стороны прямоугольника.\n",
      "Сторона a: 10\n",
      "Сторона b: 90909\n",
      "Сторона c: 10\n",
      "Треугольник из таких отрезков невозможен.\n"
     ]
    }
   ],
   "source": [
    "# 6. По длинам трех отрезков, введенных пользователем, определить возможность существования треугольника,\n",
    "# составленного из этих отрезков. \n",
    "# Если такой треугольник существует, то определить,\n",
    "# является ли он разносторонним, равнобедренным или равносторонним.\n",
    "# Проверка данных не требуется по условию задачи (Парадигма Идеального Пользователя)\n",
    "\n",
    "print('Введите стороны прямоугольника.')\n",
    "a = float(input('Сторона a: '))\n",
    "b = float(input('Сторона b: '))\n",
    "c = float(input('Сторона c: '))\n",
    "\n",
    "if a + b >= c and a + c >= b and b + c >= a:\n",
    "    if a == b or b == c or c == a:\n",
    "        if a == b and a == c:\n",
    "            print('Треугольник равносторонний.')\n",
    "        else:\n",
    "            print('Треугольник равнобедренный.')\n",
    "    else:\n",
    "        print('Треугольник разносторонний.')\n",
    "else:\n",
    "    print('Треугольник из таких отрезков невозможен.')"
   ]
  }
 ],
 "metadata": {
  "kernelspec": {
   "display_name": "Python 3",
   "language": "python",
   "name": "python3"
  },
  "language_info": {
   "codemirror_mode": {
    "name": "ipython",
    "version": 3
   },
   "file_extension": ".py",
   "mimetype": "text/x-python",
   "name": "python",
   "nbconvert_exporter": "python",
   "pygments_lexer": "ipython3",
   "version": "3.8.5"
  }
 },
 "nbformat": 4,
 "nbformat_minor": 4
}
