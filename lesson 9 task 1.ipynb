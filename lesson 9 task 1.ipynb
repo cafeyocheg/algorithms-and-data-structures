{
 "cells": [
  {
   "cell_type": "code",
   "execution_count": 1,
   "metadata": {},
   "outputs": [
    {
     "name": "stdout",
     "output_type": "stream",
     "text": [
      "Введите строку для подсчета: Tchiiii zawazaaa\n",
      "В строке \"Tchiiii zawazaaa\" есть 122 различных подстрок.\n"
     ]
    }
   ],
   "source": [
    "# 1. Определение количества различных подстрок с использованием хеш-функции. \n",
    "# Пусть на вход функции дана строка. Требуется вернуть количество различных подстрок в этой строке.\n",
    "# Примечания:\n",
    "# * в сумму не включаем пустую строку и строку целиком;\n",
    "# * без использования функций для вычисления хэша (hashlib).\n",
    "# ----------------------------------------------------------------------------------------------------------------------------\n",
    "\n",
    "def count_sub(s: str):\n",
    "    \n",
    "    hashset = set()       # в множество будут добавляться уникальные подстроки\n",
    "    \n",
    "    for i in range(len(s) - 1):        # внешний цикл: по длине строки\n",
    "        for j in range(i + 1, len(s) + 1):   # внутренний проходит от следующего за i до длины строки плюс 1\n",
    "            hashset.add(hash(s[i:j]))             # комбинации в виде среза от каждых i до j в сет\n",
    "            \n",
    "    counter = len(hashset) - 1            # не учитывается строка целиком\n",
    "    return counter\n",
    "\n",
    "\n",
    "string = input('Введите строку для подсчета: ')\n",
    "print(f'В строке \"{string}\" есть {count_sub(string)} различных подстрок.')"
   ]
  }
 ],
 "metadata": {
  "kernelspec": {
   "display_name": "Python 3",
   "language": "python",
   "name": "python3"
  },
  "language_info": {
   "codemirror_mode": {
    "name": "ipython",
    "version": 3
   },
   "file_extension": ".py",
   "mimetype": "text/x-python",
   "name": "python",
   "nbconvert_exporter": "python",
   "pygments_lexer": "ipython3",
   "version": "3.8.5"
  }
 },
 "nbformat": 4,
 "nbformat_minor": 4
}
