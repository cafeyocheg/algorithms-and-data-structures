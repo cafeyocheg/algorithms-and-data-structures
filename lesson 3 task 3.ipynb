{
 "cells": [
  {
   "cell_type": "code",
   "execution_count": 22,
   "metadata": {},
   "outputs": [
    {
     "name": "stdout",
     "output_type": "stream",
     "text": [
      "[69, 6, 91, 23, 29, 51, 4, 44, 5, 38]\n",
      "[69, 6, 4, 23, 29, 51, 91, 44, 5, 38]\n"
     ]
    }
   ],
   "source": [
    "# 3. В массиве случайных целых чисел поменять местами минимальный и максимальный элементы.\n",
    "\n",
    "import random\n",
    "\n",
    "a = [random.randint(0, 99) for _ in range(10)]\n",
    "print(a)\n",
    "\n",
    "maximum = a[0]\n",
    "minimum = a[0]\n",
    "\n",
    "for el in a:\n",
    "    if el > maximum:\n",
    "        maximum = el\n",
    "    elif el < minimum:\n",
    "        minimum = el\n",
    "        \n",
    "index_min = a.index(minimum)\n",
    "index_max = a.index(maximum)\n",
    "\n",
    "a[index_max], a[index_min] = a[index_min], a[index_max]\n",
    "print(a)"
   ]
  }
 ],
 "metadata": {
  "kernelspec": {
   "display_name": "Python 3",
   "language": "python",
   "name": "python3"
  },
  "language_info": {
   "codemirror_mode": {
    "name": "ipython",
    "version": 3
   },
   "file_extension": ".py",
   "mimetype": "text/x-python",
   "name": "python",
   "nbconvert_exporter": "python",
   "pygments_lexer": "ipython3",
   "version": "3.8.5"
  }
 },
 "nbformat": 4,
 "nbformat_minor": 4
}
