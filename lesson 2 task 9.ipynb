{
 "cells": [
  {
   "cell_type": "markdown",
   "metadata": {},
   "source": [
    "9. Среди натуральных чисел, которые были введены, найти наибольшее по сумме цифр. Вывести на экран это число и сумму его цифр."
   ]
  },
  {
   "cell_type": "code",
   "execution_count": 16,
   "metadata": {},
   "outputs": [
    {
     "name": "stdout",
     "output_type": "stream",
     "text": [
      "Введите серию натуральных чисел. Для результата введите 0.\n",
      "1989\n",
      "2021\n",
      "1969\n",
      "1995\n",
      "0\n",
      "У числа 1989 наибольшая сумма цифр: 27\n"
     ]
    }
   ],
   "source": [
    "num = int(input('Введите серию натуральных чисел. Для результата введите 0.\\n'))\n",
    "\n",
    "greatest_sum = 0\n",
    "greatest_number = 0\n",
    "while num != 0:\n",
    "    maximum = num\n",
    "    summa = 0\n",
    "    while num > 0:\n",
    "        summa += num % 10\n",
    "        num //= 10\n",
    "    if summa > greatest_sum:\n",
    "        greatest_sum = summa\n",
    "        greatest_number = maximum\n",
    "    num = int(input())\n",
    "\n",
    "print(f'У числа {greatest_number} наибольшая сумма цифр: {greatest_sum}')"
   ]
  }
 ],
 "metadata": {
  "kernelspec": {
   "display_name": "Python 3",
   "language": "python",
   "name": "python3"
  },
  "language_info": {
   "codemirror_mode": {
    "name": "ipython",
    "version": 3
   },
   "file_extension": ".py",
   "mimetype": "text/x-python",
   "name": "python",
   "nbconvert_exporter": "python",
   "pygments_lexer": "ipython3",
   "version": "3.8.5"
  }
 },
 "nbformat": 4,
 "nbformat_minor": 4
}
