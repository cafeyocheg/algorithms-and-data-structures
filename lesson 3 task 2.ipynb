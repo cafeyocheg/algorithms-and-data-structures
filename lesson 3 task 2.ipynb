{
 "cells": [
  {
   "cell_type": "code",
   "execution_count": 9,
   "metadata": {},
   "outputs": [
    {
     "name": "stdout",
     "output_type": "stream",
     "text": [
      "Первый массив [60, 71, 32, 74, 33, 99, 98, 5, 87, 51]\n",
      "Индексы четных элементов массива: [0, 2, 3, 6]\n"
     ]
    }
   ],
   "source": [
    "# 2. Во втором массиве сохранить индексы четных элементов первого массива. \n",
    "# Например, если дан массив со значениями 8, 3, 15, 6, 4, 2, второй массив надо заполнить значениями 0, 3, 4, 5\n",
    "# (помните, что индексация начинается с нуля), т. к. именно в этих позициях первого массива стоят четные числа.\n",
    "\n",
    "import random\n",
    "\n",
    "r = [random.randint(0, 99) for _ in range(10)]\n",
    "print(f'Первый массив {r}')\n",
    "\n",
    "indeces = []\n",
    "for n in r:\n",
    "    if n % 2 == 0:\n",
    "        indeces.append(r.index(n))\n",
    "        \n",
    "print(f'Индексы четных элементов массива: {indeces}')"
   ]
  }
 ],
 "metadata": {
  "kernelspec": {
   "display_name": "Python 3",
   "language": "python",
   "name": "python3"
  },
  "language_info": {
   "codemirror_mode": {
    "name": "ipython",
    "version": 3
   },
   "file_extension": ".py",
   "mimetype": "text/x-python",
   "name": "python",
   "nbconvert_exporter": "python",
   "pygments_lexer": "ipython3",
   "version": "3.8.5"
  }
 },
 "nbformat": 4,
 "nbformat_minor": 4
}
