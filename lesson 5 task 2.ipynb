{
 "cells": [
  {
   "cell_type": "code",
   "execution_count": 40,
   "metadata": {},
   "outputs": [
    {
     "name": "stdout",
     "output_type": "stream",
     "text": [
      "Первое число hex: ff\n",
      "Второе число hex: f\n",
      "Dex: 255 и 15\n",
      "Сумма чисел: ['1', '0', 'E']\n",
      "Произведение чисел: ['E', 'F', '1']\n"
     ]
    }
   ],
   "source": [
    "# 2. Написать программу сложения и умножения двух шестнадцатеричных чисел.\n",
    "# При этом каждое число представляется как массив, элементы которого — цифры числа.\n",
    "\n",
    "from collections import deque, defaultdict\n",
    "\n",
    "# функция конвертации введенной строки в dex: в table по строчному ключу находится число, \n",
    "# потом умножается на 16 в степени номера элемента введенной строки, все складывается в переменную dex\n",
    "# (к примеру 32F = [\"F\", \"2\", \"3\"] = 15*16^0 + 2*16^1 + 3*16^2 = 815)\n",
    "# реверс очереди: начинаем с конца, чтобы степень увеличивалась с увеличением количества символов\n",
    "def to_dex(string):\n",
    "    dex = 0\n",
    "    num = deque(string)\n",
    "    num.reverse()\n",
    "    for i in range(len(num)):\n",
    "        dex += table[num[i]] * 16 ** i\n",
    "    return dex\n",
    "\n",
    "# функция конвертации числа в hex: d это поиск элемента в словаре table по значению \n",
    "# Остаток от деления на 16 это номер числа dex в table\n",
    "# Далее число сокращается на 16 и находится новый остаток пока на останется неделимое нацело число\n",
    "# Пример: 699 = (699 % 16) + (43 % 16) + (2 % 16) = 11 + 11 + 2 = B + B + 2 = [2, B, B]\n",
    "def to_hex(numb):\n",
    "    num = deque()\n",
    "    while numb > 0:\n",
    "        d = numb % 16\n",
    "        for i in table:\n",
    "            if table[i] == d:\n",
    "                num.append(i)\n",
    "        numb //= 16\n",
    "    num.reverse()\n",
    "    return list(num)\n",
    "\n",
    "# создание словаря где 0-F это ключи, 0-15 это значения\n",
    "symbols = list('0123456789ABCDEF')\n",
    "table = defaultdict(int)\n",
    "counter = 0\n",
    "for key in symbols:\n",
    "    table[key] += counter\n",
    "    counter += 1\n",
    "\n",
    "a = to_dex(input('Первое число hex: ').upper())\n",
    "b = to_dex(input('Второе число hex: ').upper())\n",
    "print(f'Dex: {a} и {b}')\n",
    "\n",
    "print(f'Сумма чисел: {to_hex(a + b)}')\n",
    "print(f'Произведение чисел: {to_hex(a * b)}')"
   ]
  }
 ],
 "metadata": {
  "kernelspec": {
   "display_name": "Python 3",
   "language": "python",
   "name": "python3"
  },
  "language_info": {
   "codemirror_mode": {
    "name": "ipython",
    "version": 3
   },
   "file_extension": ".py",
   "mimetype": "text/x-python",
   "name": "python",
   "nbconvert_exporter": "python",
   "pygments_lexer": "ipython3",
   "version": "3.8.5"
  }
 },
 "nbformat": 4,
 "nbformat_minor": 4
}
