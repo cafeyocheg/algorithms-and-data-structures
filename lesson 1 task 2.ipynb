{
 "cells": [
  {
   "cell_type": "code",
   "execution_count": 6,
   "metadata": {},
   "outputs": [
    {
     "name": "stdout",
     "output_type": "stream",
     "text": [
      "Введите координаты первой точки x1 2000\n",
      "Введите координаты первой точки y1 1989\n",
      "Введите координаты первой точки x2 2021\n",
      "Введите координаты первой точки y2 1967\n",
      "Уравнение прямой y = -1.048x + 4084.238\n"
     ]
    }
   ],
   "source": [
    "# По введенным пользователем координатам двух точек вывести уравнение прямой вида\n",
    "# y = kx + b , проходящей через эти точки\n",
    "\n",
    "x1 = float(input('Введите координаты первой точки x1 '))\n",
    "y1 = float(input('Введите координаты первой точки y1 '))\n",
    "x2 = float(input('Введите координаты первой точки x2 '))\n",
    "y2 = float(input('Введите координаты первой точки y2 '))\n",
    "\n",
    "if x1 != x2:\n",
    "    k = (y2 - y1)/(x2 - x1)\n",
    "    b = (x2*y1 - x1*y2)/(x2 - x1)\n",
    "    print(f'Уравнение прямой y = {k:.3f}x + {b:.3f}')\n",
    "else:\n",
    "    print(f'Уравнение прямой x = {x1:.3f}')\n"
   ]
  }
 ],
 "metadata": {
  "kernelspec": {
   "display_name": "Python 3",
   "language": "python",
   "name": "python3"
  },
  "language_info": {
   "codemirror_mode": {
    "name": "ipython",
    "version": 3
   },
   "file_extension": ".py",
   "mimetype": "text/x-python",
   "name": "python",
   "nbconvert_exporter": "python",
   "pygments_lexer": "ipython3",
   "version": "3.8.5"
  }
 },
 "nbformat": 4,
 "nbformat_minor": 4
}
