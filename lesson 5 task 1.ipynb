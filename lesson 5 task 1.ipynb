{
 "cells": [
  {
   "cell_type": "code",
   "execution_count": 38,
   "metadata": {},
   "outputs": [
    {
     "name": "stdout",
     "output_type": "stream",
     "text": [
      "Количество фирм: 3\n",
      "Наименование предприятия №1: Sons & Sons\n",
      "Прибыль Sons & Sons за 1 квартал: 900000\n",
      "Прибыль Sons & Sons за 2 квартал: 95000\n",
      "Прибыль Sons & Sons за 3 квартал: 0\n",
      "Прибыль Sons & Sons за 4 квартал: 120000\n",
      "Наименование предприятия №2: Apple Suqs\n",
      "Прибыль Apple Suqs за 1 квартал: 0\n",
      "Прибыль Apple Suqs за 2 квартал: 0\n",
      "Прибыль Apple Suqs за 3 квартал: 10\n",
      "Прибыль Apple Suqs за 4 квартал: -25000\n",
      "Наименование предприятия №3: I once created a company\n",
      "Прибыль I once created a company за 1 квартал: 12000\n",
      "Прибыль I once created a company за 2 квартал: 23000\n",
      "Прибыль I once created a company за 3 квартал: 100000\n",
      "Прибыль I once created a company за 4 квартал: 23890\n",
      "Средняя годовая прибыль: 416300.0\n",
      "Предприятия с прибылью выше средней:\n",
      "['Sons & Sons']\n",
      "Предприятия с прибылью ниже средней:\n",
      "['Apple Suqs', 'I once created a company']\n"
     ]
    }
   ],
   "source": [
    "# 1. Пользователь вводит данные о количестве предприятий, их наименования и прибыль за четыре квартала для каждого предприятия.\n",
    "# Программа должна определить среднюю прибыль (за год для всех предприятий) и отдельно вывести наименования предприятий, чья \n",
    "# прибыль выше среднего и ниже среднего.\n",
    "\n",
    "from collections import defaultdict\n",
    "\n",
    "successful = []\n",
    "not_so_goods = []\n",
    "all_profit = 0\n",
    "profits = collections.defaultdict()\n",
    "\n",
    "while True:\n",
    "    try:\n",
    "        n = int(input('Количество фирм: '))\n",
    "    except ValueError:\n",
    "        print('Некорректные значения.')\n",
    "        continue\n",
    "    break\n",
    "        \n",
    "for i in range(n):\n",
    "    name = input(f'Наименование предприятия №{i+1}: ')\n",
    "    q = 1\n",
    "    year_profit = 0\n",
    "    while q <= 4:\n",
    "        try:\n",
    "            year_profit += float(input(f'Прибыль {name} за {q} квартал: '))\n",
    "        except ValueError:\n",
    "            print('Некорректные значения.')\n",
    "            continue\n",
    "        q += 1\n",
    "    profits[name] = year_profit\n",
    "    all_profit += year_profit\n",
    "\n",
    "average_profit = all_profit / n\n",
    "\n",
    "for el, item in profits.items():\n",
    "    if item >= average_profit:\n",
    "        successful.append(el)\n",
    "    else:\n",
    "        not_so_goods.append(el)\n",
    "        \n",
    "print(f'Средняя годовая прибыль: {average_profit}')\n",
    "print(f'Предприятия с прибылью выше средней:\\n{successful}')\n",
    "print(f'Предприятия с прибылью ниже средней:\\n{not_so_goods}')       "
   ]
  }
 ],
 "metadata": {
  "kernelspec": {
   "display_name": "Python 3",
   "language": "python",
   "name": "python3"
  },
  "language_info": {
   "codemirror_mode": {
    "name": "ipython",
    "version": 3
   },
   "file_extension": ".py",
   "mimetype": "text/x-python",
   "name": "python",
   "nbconvert_exporter": "python",
   "pygments_lexer": "ipython3",
   "version": "3.8.5"
  }
 },
 "nbformat": 4,
 "nbformat_minor": 4
}
