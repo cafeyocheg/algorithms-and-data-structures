{
 "cells": [
  {
   "cell_type": "code",
   "execution_count": 18,
   "metadata": {},
   "outputs": [
    {
     "name": "stdout",
     "output_type": "stream",
     "text": [
      "Начало пути: 0\n"
     ]
    },
    {
     "ename": "IndexError",
     "evalue": "list index out of range",
     "output_type": "error",
     "traceback": [
      "\u001b[1;31m---------------------------------------------------------------------------\u001b[0m",
      "\u001b[1;31mIndexError\u001b[0m                                Traceback (most recent call last)",
      "\u001b[1;32m<ipython-input-18-bc3d8f146b3c>\u001b[0m in \u001b[0;36m<module>\u001b[1;34m\u001b[0m\n\u001b[0;32m     54\u001b[0m \u001b[1;33m\u001b[0m\u001b[0m\n\u001b[0;32m     55\u001b[0m \u001b[1;33m\u001b[0m\u001b[0m\n\u001b[1;32m---> 56\u001b[1;33m \u001b[0mcost\u001b[0m\u001b[1;33m,\u001b[0m \u001b[0mpath\u001b[0m \u001b[1;33m=\u001b[0m \u001b[0mdejkstra\u001b[0m\u001b[1;33m(\u001b[0m\u001b[0mg\u001b[0m\u001b[1;33m,\u001b[0m \u001b[0ms\u001b[0m\u001b[1;33m)\u001b[0m\u001b[1;33m\u001b[0m\u001b[1;33m\u001b[0m\u001b[0m\n\u001b[0m\u001b[0;32m     57\u001b[0m \u001b[0mprint\u001b[0m\u001b[1;33m(\u001b[0m\u001b[1;33m*\u001b[0m\u001b[0mpath\u001b[0m\u001b[1;33m,\u001b[0m \u001b[0msep\u001b[0m\u001b[1;33m=\u001b[0m\u001b[1;34m'\\n'\u001b[0m\u001b[1;33m)\u001b[0m\u001b[1;33m\u001b[0m\u001b[1;33m\u001b[0m\u001b[0m\n",
      "\u001b[1;32m<ipython-input-18-bc3d8f146b3c>\u001b[0m in \u001b[0;36mdejkstra\u001b[1;34m(graph, start)\u001b[0m\n\u001b[0;32m     23\u001b[0m \u001b[1;33m\u001b[0m\u001b[0m\n\u001b[0;32m     24\u001b[0m         \u001b[1;32mfor\u001b[0m \u001b[0mi\u001b[0m\u001b[1;33m,\u001b[0m \u001b[0mvertex\u001b[0m \u001b[1;32min\u001b[0m \u001b[0menumerate\u001b[0m\u001b[1;33m(\u001b[0m\u001b[0mgraph\u001b[0m\u001b[1;33m[\u001b[0m\u001b[0mstart\u001b[0m\u001b[1;33m]\u001b[0m\u001b[1;33m)\u001b[0m\u001b[1;33m:\u001b[0m\u001b[1;33m\u001b[0m\u001b[1;33m\u001b[0m\u001b[0m\n\u001b[1;32m---> 25\u001b[1;33m             \u001b[1;32mif\u001b[0m \u001b[0mvertex\u001b[0m \u001b[1;33m!=\u001b[0m \u001b[1;36m0\u001b[0m \u001b[1;32mand\u001b[0m \u001b[1;32mnot\u001b[0m \u001b[0mis_visited\u001b[0m\u001b[1;33m[\u001b[0m\u001b[0mi\u001b[0m\u001b[1;33m]\u001b[0m\u001b[1;33m:\u001b[0m\u001b[1;33m\u001b[0m\u001b[1;33m\u001b[0m\u001b[0m\n\u001b[0m\u001b[0;32m     26\u001b[0m                 \u001b[1;32mif\u001b[0m \u001b[0mcost\u001b[0m\u001b[1;33m[\u001b[0m\u001b[0mi\u001b[0m\u001b[1;33m]\u001b[0m \u001b[1;33m>\u001b[0m \u001b[0mvertex\u001b[0m \u001b[1;33m+\u001b[0m \u001b[0mcost\u001b[0m\u001b[1;33m[\u001b[0m\u001b[0mstart\u001b[0m\u001b[1;33m]\u001b[0m\u001b[1;33m:\u001b[0m\u001b[1;33m\u001b[0m\u001b[1;33m\u001b[0m\u001b[0m\n\u001b[0;32m     27\u001b[0m                     \u001b[0mcost\u001b[0m\u001b[1;33m[\u001b[0m\u001b[0mi\u001b[0m\u001b[1;33m]\u001b[0m \u001b[1;33m=\u001b[0m \u001b[0mvertex\u001b[0m \u001b[1;33m+\u001b[0m \u001b[0mcost\u001b[0m\u001b[1;33m[\u001b[0m\u001b[0mstart\u001b[0m\u001b[1;33m]\u001b[0m\u001b[1;33m\u001b[0m\u001b[1;33m\u001b[0m\u001b[0m\n",
      "\u001b[1;31mIndexError\u001b[0m: list index out of range"
     ]
    }
   ],
   "source": [
    "# 2. Доработать алгоритм Дейкстры (рассматривался на уроке),\n",
    "# чтобы он дополнительно возвращал список вершин, которые необходимо обойти.\n",
    "# ----------------------------------------------------------------------------------------------------------------------\n",
    "\n",
    "s = int(input('Начало пути: '))\n",
    "g = [\n",
    "    [0, 0, 1, 1, 9, 0, 0, 0],\n",
    "    [0, 0, 9, 4, 0, 0, 5, 0],\n",
    "    [0, 9, 0, 0, 3, 0, 6, 0],\n",
    "    [0, 0, 0, 0, 0, 0, 0, 0],\n",
    "    [0, 0, 0, 0, 0, 0, 1, 0],\n",
    "    [0, 0, 0, 0, 0, 0, 9, 0],\n",
    "    [0, 0, 7, 0, 8, 1, 0, 0],\n",
    "    [0, 0, 0, 0, 0, 1, 2, 0],\n",
    "]\n",
    "\n",
    "def dejkstra(graph, start):\n",
    "    length = len(graph)\n",
    "    is_visited = [False] * length\n",
    "    cost = [float('inf')] * length\n",
    "    parent = [-1] * length\n",
    "    \n",
    "    cost[start] = 0\n",
    "    min_cost = 0\n",
    "    \n",
    "    while min_cost < float('inf'):\n",
    "        is_visited[start] = True\n",
    "        \n",
    "        for i, vertex in enumerate(graph[start]):\n",
    "            if vertex != 0 and not is_visited[i]:\n",
    "                if cost[i] > vertex + cost[start]:\n",
    "                    cost[i] = vertex + cost[start]\n",
    "                    parent[i] = start\n",
    "                \n",
    "                \n",
    "        min_cost = len('inf')\n",
    "        for i in range(length):\n",
    "            if min_cost > cost[i] and not is_visited[i]:\n",
    "                    min_cost = cost[i]\n",
    "                    start = i\n",
    "                 \n",
    "         \n",
    "        path = [[] for _ in range(length)]\n",
    "        \n",
    "        for i in range(length):\n",
    "            if is_visited[i]:\n",
    "                path[i].append(i)\n",
    "                j = i\n",
    "                while parent[j] != -1:\n",
    "                    path[i].append(parent[j])\n",
    "                    j = parent[j]\n",
    "                    \n",
    "                path[i].reverse()\n",
    "                \n",
    "        \n",
    "    return cost, path\n",
    "    \n",
    "    \n",
    "\n",
    "\n",
    "cost, path = dejkstra(g, s)\n",
    "print(*path, sep='\\n')"
   ]
  }
 ],
 "metadata": {
  "kernelspec": {
   "display_name": "Python 3",
   "language": "python",
   "name": "python3"
  },
  "language_info": {
   "codemirror_mode": {
    "name": "ipython",
    "version": 3
   },
   "file_extension": ".py",
   "mimetype": "text/x-python",
   "name": "python",
   "nbconvert_exporter": "python",
   "pygments_lexer": "ipython3",
   "version": "3.8.5"
  }
 },
 "nbformat": 4,
 "nbformat_minor": 4
}
