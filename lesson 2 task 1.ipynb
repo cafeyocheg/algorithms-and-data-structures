{
 "cells": [
  {
   "cell_type": "markdown",
   "metadata": {},
   "source": [
    "1. Написать программу, которая будет складывать, вычитать, умножать или делить два числа.\n",
    "\n",
    "Числа и знак операции вводятся пользователем.\n",
    "\n",
    "После выполнения вычисления программа не завершается, а запрашивает новые данные для вычислений. \n",
    "\n",
    "Завершение программы должно выполняться при вводе символа '0' в качестве знака операции.\n",
    "\n",
    "Если пользователь вводит неверный знак (не '0', '+', '-', '', '/'), программа должна сообщать об ошибке \n",
    "и снова запрашивать знак операции.\n",
    "\n",
    "Также она должна сообщать пользователю о невозможности деления на ноль, если он ввел его в качестве делителя."
   ]
  },
  {
   "cell_type": "code",
   "execution_count": null,
   "metadata": {},
   "outputs": [
    {
     "name": "stdout",
     "output_type": "stream",
     "text": [
      "Введите два числа и оператор для совершения операции.\n",
      "Первое число: 0\n",
      "Второе число: 9\n",
      "Оператор: /\n",
      "0.0\n",
      "Введите два числа и оператор для совершения операции.\n",
      "Первое число: 90\n",
      "Второе число: -9\n",
      "Оператор: /\n",
      "-10.0\n",
      "Введите два числа и оператор для совершения операции.\n",
      "Первое число: 90\n",
      "Второе число: 0\n",
      "Оператор: /\n",
      "На ноль не делить.\n",
      "Введите два числа и оператор для совершения операции.\n",
      "Первое число: 88\n",
      "Второе число: 98\n",
      "Оператор: o\n",
      "Неверный оператор. Попробуйте снова.\n",
      "Введите два числа и оператор для совершения операции.\n"
     ]
    }
   ],
   "source": [
    "def calculate(a, b, operator):\n",
    "    if operator == '+':\n",
    "        return a + b\n",
    "    elif operator == '-':\n",
    "        return a - b\n",
    "    elif operator == '*':\n",
    "        return a * b\n",
    "    elif operator == '/':\n",
    "        return a / b\n",
    "    \n",
    "def is_correct_operator(operator):\n",
    "    return operator == '0' or operator == '+' or operator == '-' or operator == '*' or operator == '/'    \n",
    "\n",
    "def run_calculator(a, b):\n",
    "    print('Введите два числа и оператор для совершения операции. Оператор 0 завершает программу.')\n",
    "    a = float(input('Первое число: '))\n",
    "    b = float(input('Второе число: '))\n",
    "    operator = input('Оператор: ')\n",
    "    \n",
    "    if not is_correct_operator(operator):\n",
    "        print('Неверный оператор. Попробуйте снова.')\n",
    "        run_calculator(a, b)\n",
    "        return\n",
    "    elif operator == '0':\n",
    "        print('Завершение работы.')\n",
    "        return\n",
    "    elif operator == '/' and b == 0:\n",
    "        print('На ноль не делить.')\n",
    "        run_calculator(a, b)\n",
    "        return\n",
    "    else:\n",
    "        print(calculate(a, b, operator))\n",
    "        run_calculator(a, b)\n",
    "    \n",
    "run_calculator(a, b)"
   ]
  },
  {
   "cell_type": "code",
   "execution_count": null,
   "metadata": {},
   "outputs": [],
   "source": []
  }
 ],
 "metadata": {
  "kernelspec": {
   "display_name": "Python 3",
   "language": "python",
   "name": "python3"
  },
  "language_info": {
   "codemirror_mode": {
    "name": "ipython",
    "version": 3
   },
   "file_extension": ".py",
   "mimetype": "text/x-python",
   "name": "python",
   "nbconvert_exporter": "python",
   "pygments_lexer": "ipython3",
   "version": "3.8.5"
  }
 },
 "nbformat": 4,
 "nbformat_minor": 4
}
