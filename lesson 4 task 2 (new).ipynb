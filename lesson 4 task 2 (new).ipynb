{
 "cells": [
  {
   "cell_type": "markdown",
   "metadata": {},
   "source": [
    "**2. Написать два алгоритма нахождения i-го по счёту простого числа.**\n",
    "\n",
    "Без использования «Решета Эратосфена»;\n",
    "\n",
    "Используя алгоритм «Решето Эратосфена»"
   ]
  },
  {
   "cell_type": "code",
   "execution_count": 9,
   "metadata": {},
   "outputs": [
    {
     "name": "stdout",
     "output_type": "stream",
     "text": [
      "Введите номер по счету простого числа: 21\n",
      "73\n",
      "Алгоритм 1:\n",
      "73 это 21 по счёту простое число.\n",
      "Алгоритм 2 с использованием алгоритма «Решето Эратосфена»:\n",
      "73 это 21 по счёту простое число\n"
     ]
    }
   ],
   "source": [
    "def sieve_without_eratosthenes(i):\n",
    " \n",
    "    simple_list = [2]  # первое простое число - 2\n",
    "    number = 3      # добавление в список начинается с 3\n",
    "    while len(simple_list) < i:\n",
    "        flag = True\n",
    "        for j in simple_list.copy():\n",
    "            if number % j == 0:\n",
    "                flag = False\n",
    "                break    # если следующее число делится на какое либо из предыдущих, то break\n",
    "        if flag:\n",
    "            simple_list.append(number)   # если нет, число добавляется в список\n",
    "        number += 1   # и так до i-го числа, в задаче - до введенного по индексу\n",
    "    return simple_list[-1]  # функция возвращает последнее число в списке\n",
    "\n",
    "\n",
    "def sieve_eratosthenes(i):\n",
    "\n",
    "    i_max = prime_counting_function(i)  # верхняя граница\n",
    "    simple_list = [eye for eye in range(2, i_max)] # лист от 2 до верхней границы\n",
    "\n",
    "    for number in  simple_list:\n",
    "        if simple_list.index(number) <= number - 1:   # индекс меньше чем число\n",
    "            for j in range(2, len(simple_list)):   # все делители\n",
    "                if number * j in simple_list[number:]:\n",
    "                    simple_list.remove(number * j)  # отсеивание всех чисел делимых на j\n",
    "        else:\n",
    "            break\n",
    "    return simple_list[i - 1]\n",
    "\n",
    "import math\n",
    "\n",
    "def prime_counting_function(i):\n",
    "    \n",
    "    number_of_primes = 0\n",
    "    number = 2\n",
    "    while number_of_primes <= i:   # цикл возвращает верхнюю границу отрезка с i-м количеством простых чисел\n",
    "        number_of_primes = number / math.log(number)\n",
    "        number += 1\n",
    "    return number  \n",
    "\n",
    "user_number = int(input('Введите номер по счету простого числа: '))\n",
    "print(sieve_without_eratosthenes(user_number))\n",
    "\n",
    "print('Алгоритм 1:')\n",
    "print(f'{sieve_without_eratosthenes(user_number)} это {user_number} по счёту простое число.')\n",
    "\n",
    "print('Алгоритм 2 с использованием алгоритма «Решето Эратосфена»:')\n",
    "print(f'{sieve_eratosthenes(user_number)} это {user_number} по счёту простое число')"
   ]
  }
 ],
 "metadata": {
  "kernelspec": {
   "display_name": "Python 3",
   "language": "python",
   "name": "python3"
  },
  "language_info": {
   "codemirror_mode": {
    "name": "ipython",
    "version": 3
   },
   "file_extension": ".py",
   "mimetype": "text/x-python",
   "name": "python",
   "nbconvert_exporter": "python",
   "pygments_lexer": "ipython3",
   "version": "3.8.5"
  }
 },
 "nbformat": 4,
 "nbformat_minor": 4
}
