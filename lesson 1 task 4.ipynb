{
 "cells": [
  {
   "cell_type": "code",
   "execution_count": 37,
   "metadata": {},
   "outputs": [
    {
     "name": "stdout",
     "output_type": "stream",
     "text": [
      "Введите две строчные буквы латинского алфавита.\n",
      "Первая: w\n",
      "Вторая: u\n",
      "Буква \"w\" 23-я в алфавите\n",
      "Буква \"u\" 21-я в алфавите\n",
      "Между буквами 1 букв(ы)\n"
     ]
    }
   ],
   "source": [
    "# 4. Пользователь вводит две буквы. Определить, на каких местах алфавита они стоят и сколько между ними находится букв.\n",
    "\n",
    "print('Введите две строчные буквы латинского алфавита.')\n",
    "letter1 = input('Первая: ')\n",
    "letter2 = input('Вторая: ')\n",
    "letter1 = letter1.lower()\n",
    "letter2 = letter2.lower()\n",
    "\n",
    "uni_letter_num1 = ord(letter1) - 96\n",
    "uni_letter_num2 = ord(letter2) - 96\n",
    "# print(uni_letter_num1, uni_letter_num2)\n",
    "# unicode - буквы латинского алфавита с 97 по 125 номер\n",
    "\n",
    "if uni_letter_num1 > 26:\n",
    "    print(\"Ошибка в вводе.\")\n",
    "elif uni_letter_num2 > 26:\n",
    "    print(\"Ошибка в вводе.\")\n",
    "elif uni_letter_num1 < 1:\n",
    "    print(\"Ошибка в вводе.\")\n",
    "elif uni_letter_num2 < 1:\n",
    "    print(\"Ошибка в вводе.\")\n",
    "else:\n",
    "    between = abs(uni_letter_num1 - uni_letter_num2) - 1\n",
    "    print(f'Буква \"{letter1}\" {uni_letter_num1}-я в алфавите\\n'\n",
    "      f'Буква \"{letter2}\" {uni_letter_num2}-я в алфавите\\n'\n",
    "      f'Между буквами {between} букв(ы)')"
   ]
  },
  {
   "cell_type": "code",
   "execution_count": null,
   "metadata": {},
   "outputs": [],
   "source": []
  }
 ],
 "metadata": {
  "kernelspec": {
   "display_name": "Python 3",
   "language": "python",
   "name": "python3"
  },
  "language_info": {
   "codemirror_mode": {
    "name": "ipython",
    "version": 3
   },
   "file_extension": ".py",
   "mimetype": "text/x-python",
   "name": "python",
   "nbconvert_exporter": "python",
   "pygments_lexer": "ipython3",
   "version": "3.8.5"
  }
 },
 "nbformat": 4,
 "nbformat_minor": 4
}
