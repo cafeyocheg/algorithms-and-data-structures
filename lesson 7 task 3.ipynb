{
 "cells": [
  {
   "cell_type": "code",
   "execution_count": 60,
   "metadata": {},
   "outputs": [
    {
     "name": "stdout",
     "output_type": "stream",
     "text": [
      "m = 3\n",
      "Исходный массив:\n",
      "[190, 178, 199, 198, 152, 153, 152]\n",
      "Медиана:\n",
      "178\n"
     ]
    }
   ],
   "source": [
    "# 3. Массив размером 2m + 1, где m — натуральное число, заполнен случайным образом. Найдите в массиве медиану. \n",
    "# Медианой называется элемент ряда, делящий его на две равные части: в одной находятся элементы,\n",
    "# которые не меньше медианы, в другой — не больше медианы. Примечание: без сортировки\n",
    "# ----------------------------------------------------------------------------------------------------------------------\n",
    "\n",
    "import random\n",
    "\n",
    "m = int(input('m = '))\n",
    "array = [random.randint(150, 210) for _ in range(2*m + 1)]\n",
    "print(f'Исходный массив:\\n{array}')\n",
    "\n",
    "def median(a, tchi):\n",
    "    pivot = a[0]\n",
    "    less = []\n",
    "    more = []\n",
    "    pivots =[]\n",
    "    for el in a:\n",
    "        if el > pivot:\n",
    "            more.append(el)\n",
    "        elif el < pivot:\n",
    "            less.append(el)\n",
    "        else:\n",
    "            pivots.append(el)\n",
    "        \n",
    "    if len(less) > tchi:\n",
    "        return median(less, tchi)\n",
    "    elif len(less) + len(pivots) > tchi:\n",
    "        return pivot\n",
    "    else:\n",
    "        return median(more, tchi - len(more) - len(pivots))\n",
    "        \n",
    "print(f'Медиана:\\n{median(array, m)}')"
   ]
  }
 ],
 "metadata": {
  "kernelspec": {
   "display_name": "Python 3",
   "language": "python",
   "name": "python3"
  },
  "language_info": {
   "codemirror_mode": {
    "name": "ipython",
    "version": 3
   },
   "file_extension": ".py",
   "mimetype": "text/x-python",
   "name": "python",
   "nbconvert_exporter": "python",
   "pygments_lexer": "ipython3",
   "version": "3.8.5"
  }
 },
 "nbformat": 4,
 "nbformat_minor": 4
}
