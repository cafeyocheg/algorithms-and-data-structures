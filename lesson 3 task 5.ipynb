{
 "cells": [
  {
   "cell_type": "markdown",
   "metadata": {},
   "source": [
    "9. Среди натуральных чисел, которые были введены, найти наибольшее по сумме цифр. Вывести на экран это число и сумму его цифр."
   ]
  },
  {
   "cell_type": "code",
   "execution_count": 6,
   "metadata": {},
   "outputs": [
    {
     "name": "stdout",
     "output_type": "stream",
     "text": [
      "Массив: [80, 8, 95, -90, -13, 71, 12, 45, 96, 14, -79, 60, -10, -35, -5, -97, -23, -49, 69, 53, 49, 35, 4, 48, -90, -40, 27]\n",
      "-97\n"
     ]
    }
   ],
   "source": [
    "# 5. В массиве найти максимальный отрицательный элемент. Вывести на экран его значение и позицию в массиве.\n",
    "# Примечание к задаче: пожалуйста не путайте «минимальный» и «максимальный отрицательный». Это два абсолютно разных значения.\n",
    "\n",
    "import random\n",
    "\n",
    "r = [random.randint(-99, 99) for _ in range(27)]\n",
    "print(f'Массив: {r}')\n",
    "\n",
    "maximum_of_negative = 0\n",
    "for el in r:\n",
    "    if el < maximum_of_negative:\n",
    "        maximum_of_negative = el\n",
    "        \n",
    "print(maximum_of_negative)"
   ]
  }
 ],
 "metadata": {
  "kernelspec": {
   "display_name": "Python 3",
   "language": "python",
   "name": "python3"
  },
  "language_info": {
   "codemirror_mode": {
    "name": "ipython",
    "version": 3
   },
   "file_extension": ".py",
   "mimetype": "text/x-python",
   "name": "python",
   "nbconvert_exporter": "python",
   "pygments_lexer": "ipython3",
   "version": "3.8.5"
  }
 },
 "nbformat": 4,
 "nbformat_minor": 4
}
