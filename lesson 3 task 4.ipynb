{
 "cells": [
  {
   "cell_type": "code",
   "execution_count": 11,
   "metadata": {},
   "outputs": [
    {
     "name": "stdout",
     "output_type": "stream",
     "text": [
      "Число 45 встречается 16 раз\n"
     ]
    }
   ],
   "source": [
    "# 4. Определить, какое число в массиве встречается чаще всего.\n",
    "\n",
    "import random\n",
    "\n",
    "r = [random.randint(0, 99) for _ in range(1000)]\n",
    "\n",
    "max_index = 0\n",
    "for el in r:\n",
    "    if r.count(max_index) < r.count(el):\n",
    "        max_index = r.count(el)\n",
    "\n",
    "print(f'Число {r[max_index]} встречается {r.count(max_index)} раз')"
   ]
  }
 ],
 "metadata": {
  "kernelspec": {
   "display_name": "Python 3",
   "language": "python",
   "name": "python3"
  },
  "language_info": {
   "codemirror_mode": {
    "name": "ipython",
    "version": 3
   },
   "file_extension": ".py",
   "mimetype": "text/x-python",
   "name": "python",
   "nbconvert_exporter": "python",
   "pygments_lexer": "ipython3",
   "version": "3.8.5"
  }
 },
 "nbformat": 4,
 "nbformat_minor": 4
}
