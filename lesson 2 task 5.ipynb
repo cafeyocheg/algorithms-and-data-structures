{
 "cells": [
  {
   "cell_type": "code",
   "execution_count": 14,
   "metadata": {},
   "outputs": [
    {
     "name": "stdout",
     "output_type": "stream",
     "text": [
      "   32:      33: !    34: \"    35: #    36: $    37: %    38: &    39: '    40: (    41: )\n",
      "   42: *    43: +    44: ,    45: -    46: .    47: /    48: 0    49: 1    50: 2    51: 3\n",
      "   52: 4    53: 5    54: 6    55: 7    56: 8    57: 9    58: :    59: ;    60: <    61: =\n",
      "   62: >    63: ?    64: @    65: A    66: B    67: C    68: D    69: E    70: F    71: G\n",
      "   72: H    73: I    74: J    75: K    76: L    77: M    78: N    79: O    80: P    81: Q\n",
      "   82: R    83: S    84: T    85: U    86: V    87: W    88: X    89: Y    90: Z    91: [\n",
      "   92: \\    93: ]    94: ^    95: _    96: `    97: a    98: b    99: c   100: d   101: e\n",
      "  102: f   103: g   104: h   105: i   106: j   107: k   108: l   109: m   110: n   111: o\n",
      "  112: p   113: q   114: r   115: s   116: t   117: u   118: v   119: w   120: x   121: y\n",
      "  122: z   123: {   124: |   125: }   126: ~   127:  "
     ]
    }
   ],
   "source": [
    "# 5. Вывести на экран коды и символы таблицы ASCII, начиная с символа под номером 32 и заканчивая 127-м включительно.\n",
    "# Вывод выполнить в табличной форме: по десять пар «код-символ» в каждой строке.\n",
    "\n",
    "i = 1\n",
    "for char in range(32, 128):\n",
    "    if i % 10 == 0:\n",
    "        print(f'{char:5}: {chr(char)}')\n",
    "    else:\n",
    "        print(f'{char:5}: {chr(char)}', end=' ')\n",
    "    i += 1"
   ]
  }
 ],
 "metadata": {
  "kernelspec": {
   "display_name": "Python 3",
   "language": "python",
   "name": "python3"
  },
  "language_info": {
   "codemirror_mode": {
    "name": "ipython",
    "version": 3
   },
   "file_extension": ".py",
   "mimetype": "text/x-python",
   "name": "python",
   "nbconvert_exporter": "python",
   "pygments_lexer": "ipython3",
   "version": "3.8.5"
  }
 },
 "nbformat": 4,
 "nbformat_minor": 4
}
