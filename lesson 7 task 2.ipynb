{
 "cells": [
  {
   "cell_type": "code",
   "execution_count": 49,
   "metadata": {},
   "outputs": [
    {
     "name": "stdout",
     "output_type": "stream",
     "text": [
      "Исходный массив:\n",
      "[45, 49, 25, 2, 28, 4, 5, 10, 23, 0]\n",
      "Отсортированный массив:\n",
      "[0, 2, 4, 5, 10, 23, 25, 28, 45, 49]\n"
     ]
    }
   ],
   "source": [
    "# 2. Отсортируйте по возрастанию методом слияния одномерный вещественный массив, \n",
    "# заданный случайными числами на промежутке [0; 50). Выведите на экран исходный и отсортированный массивы.\n",
    "# ----------------------------------------------------------------------------------------------------------------------\n",
    "\n",
    "import random\n",
    "\n",
    "size = 10\n",
    "array = [random.randint(0, 50) for i in range(size)]\n",
    "print(f'Исходный массив:\\n{array}')\n",
    "\n",
    "def merge(a):\n",
    "    if len(a) <= 1:\n",
    "        return a\n",
    "    \n",
    "    leftside = merge(a[:len(a) // 2])\n",
    "    rightside = merge(a[len(a) // 2:])\n",
    "#     print(leftside, rightside)\n",
    "    i = 0\n",
    "    j = 0\n",
    "    result = []\n",
    "    \n",
    "    while i < len(leftside) or j < len(rightside):\n",
    "\n",
    "        if i >= len(leftside):\n",
    "            result.append(rightside[j])\n",
    "            j += 1\n",
    "\n",
    "        elif j >= len(rightside):\n",
    "            result.append(leftside[i])\n",
    "            i += 1\n",
    "\n",
    "        elif leftside[i] < rightside[j]:\n",
    "            result.append(leftside[i])\n",
    "            i += 1\n",
    "\n",
    "        else:\n",
    "            result.append(rightside[j])\n",
    "            j += 1\n",
    "\n",
    "    return result\n",
    "\n",
    "print(f'Отсортированный массив:\\n{merge(array)}')"
   ]
  }
 ],
 "metadata": {
  "kernelspec": {
   "display_name": "Python 3",
   "language": "python",
   "name": "python3"
  },
  "language_info": {
   "codemirror_mode": {
    "name": "ipython",
    "version": 3
   },
   "file_extension": ".py",
   "mimetype": "text/x-python",
   "name": "python",
   "nbconvert_exporter": "python",
   "pygments_lexer": "ipython3",
   "version": "3.8.5"
  }
 },
 "nbformat": 4,
 "nbformat_minor": 4
}
