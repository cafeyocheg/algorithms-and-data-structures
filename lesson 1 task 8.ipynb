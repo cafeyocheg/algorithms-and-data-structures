{
 "cells": [
  {
   "cell_type": "code",
   "execution_count": 6,
   "metadata": {},
   "outputs": [
    {
     "name": "stdout",
     "output_type": "stream",
     "text": [
      "Введите три разных целых числа.\n",
      "Число a: 2\n",
      "Число b: 77\n",
      "Число c: 0\n",
      "Число a находится между b и c.\n"
     ]
    }
   ],
   "source": [
    "# 8. Вводятся три разных числа. Найти, какое из них является средним (больше одного, но меньше другого).\n",
    "# Проверка на \"разных\" упраздняется (Парадигма Идеального Пользователя).\n",
    "\n",
    "print('Введите три разных целых числа.')\n",
    "a = int(input('Число a: '))\n",
    "b = int(input('Число b: '))\n",
    "c = int(input('Число c: '))\n",
    "\n",
    "if (a > b and a < c) or (a > c and a < b):\n",
    "    print(\"Число a находится между b и c.\")\n",
    "else:\n",
    "    if (b > a and b < c) or (b > c and b < a):\n",
    "        print(\"Число b находится между a и c.\")\n",
    "    else:\n",
    "        print(\"Число c находится между b и a.\")"
   ]
  }
 ],
 "metadata": {
  "kernelspec": {
   "display_name": "Python 3",
   "language": "python",
   "name": "python3"
  },
  "language_info": {
   "codemirror_mode": {
    "name": "ipython",
    "version": 3
   },
   "file_extension": ".py",
   "mimetype": "text/x-python",
   "name": "python",
   "nbconvert_exporter": "python",
   "pygments_lexer": "ipython3",
   "version": "3.8.5"
  }
 },
 "nbformat": 4,
 "nbformat_minor": 4
}
