{
 "cells": [
  {
   "cell_type": "code",
   "execution_count": 23,
   "metadata": {},
   "outputs": [
    {
     "name": "stdout",
     "output_type": "stream",
     "text": [
      "Введите любое натуральное число: 22\n",
      "True - Равенство выполняется для любого n.\n",
      "True - Равенство выполняется для любого n.\n",
      "True - Равенство выполняется для любого n.\n",
      "True - Равенство выполняется для любого n.\n",
      "True - Равенство выполняется для любого n.\n",
      "Проверка проведена.\n"
     ]
    }
   ],
   "source": [
    "# 7. Написать программу, доказывающую или проверяющую, \n",
    "# что для множества натуральных чисел выполняется равенство: 1+2+...+n = n(n+1)/2, где n — любое натуральное число.\n",
    "\n",
    "n = int(input('Введите любое натуральное число: '))\n",
    "\n",
    "def current(n):\n",
    "    return n * (n + 1) / 2\n",
    "\n",
    "def next(n):\n",
    "    return (n + 1) * (n + 2)/2\n",
    "\n",
    "def previous(n):\n",
    "    return (n - 1) * n/2\n",
    "    \n",
    "\n",
    "for i in range(5):\n",
    "    print(f'{current(i + 1) == next(i) == previous(i + 2)} - Равенство выполняется для любого n.')\n",
    "print('Проверка проведена.')"
   ]
  }
 ],
 "metadata": {
  "kernelspec": {
   "display_name": "Python 3",
   "language": "python",
   "name": "python3"
  },
  "language_info": {
   "codemirror_mode": {
    "name": "ipython",
    "version": 3
   },
   "file_extension": ".py",
   "mimetype": "text/x-python",
   "name": "python",
   "nbconvert_exporter": "python",
   "pygments_lexer": "ipython3",
   "version": "3.8.5"
  }
 },
 "nbformat": 4,
 "nbformat_minor": 4
}
