{
 "cells": [
  {
   "cell_type": "code",
   "execution_count": 14,
   "metadata": {},
   "outputs": [
    {
     "name": "stdout",
     "output_type": "stream",
     "text": [
      "Введите целое натуральное число: 222992\n",
      "Число 222992 в обратном порядке: 299222\n"
     ]
    }
   ],
   "source": [
    "# 3. Сформировать из введенного числа обратное по порядку входящих в него цифр и вывести на экран.\n",
    "# Например, если введено число 3486, надо вывести 6843.\n",
    "\n",
    "num = int(input('Введите целое натуральное число: '))\n",
    "old = num\n",
    "new = 0\n",
    "while num > 0:\n",
    "    new = new * 10 + num % 10\n",
    "    num = num // 10\n",
    "print(f'Число {old} в обратном порядке: {new}')"
   ]
  }
 ],
 "metadata": {
  "kernelspec": {
   "display_name": "Python 3",
   "language": "python",
   "name": "python3"
  },
  "language_info": {
   "codemirror_mode": {
    "name": "ipython",
    "version": 3
   },
   "file_extension": ".py",
   "mimetype": "text/x-python",
   "name": "python",
   "nbconvert_exporter": "python",
   "pygments_lexer": "ipython3",
   "version": "3.8.5"
  }
 },
 "nbformat": 4,
 "nbformat_minor": 4
}
